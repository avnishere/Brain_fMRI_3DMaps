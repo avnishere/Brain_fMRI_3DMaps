{
 "cells": [
  {
   "cell_type": "code",
   "execution_count": 60,
   "metadata": {},
   "outputs": [],
   "source": [
    "import pandas\n",
    "import numpy as np\n",
    "from keras.models import Sequential\n",
    "from keras.layers import Dense, Dropout, Activation\n",
    "from keras.wrappers.scikit_learn import KerasClassifier\n",
    "from keras.utils import np_utils\n",
    "from sklearn.model_selection import cross_val_score\n",
    "from sklearn.model_selection import KFold\n",
    "from sklearn.preprocessing import LabelEncoder\n",
    "from sklearn.pipeline import Pipeline\n",
    "import scipy.io as sio"
   ]
  },
  {
   "cell_type": "markdown",
   "metadata": {},
   "source": [
    "Importing requisite libraries"
   ]
  },
  {
   "cell_type": "markdown",
   "metadata": {},
   "source": [
    "Loading the dataset and extracting the training part. Change the file name according to the dataset. For example: the other two datset would be 'Datasets/new_data_kmeans.mat' and 'Datasets/new_data_pca.mat'"
   ]
  },
  {
   "cell_type": "code",
   "execution_count": 61,
   "metadata": {},
   "outputs": [],
   "source": [
    "X = sio.loadmat('Datasets/data_som_mat.mat')\n",
    "X = X['data'].T\n",
    "X_train = X[0:432,:]\n",
    "X_test = X[433:540,:]"
   ]
  },
  {
   "cell_type": "code",
   "execution_count": 62,
   "metadata": {},
   "outputs": [
    {
     "data": {
      "text/plain": [
       "(432, 300000)"
      ]
     },
     "execution_count": 62,
     "metadata": {},
     "output_type": "execute_result"
    }
   ],
   "source": [
    "X_train.shape"
   ]
  },
  {
   "cell_type": "markdown",
   "metadata": {},
   "source": [
    "Loading the label and extracting the training part"
   ]
  },
  {
   "cell_type": "code",
   "execution_count": 63,
   "metadata": {},
   "outputs": [],
   "source": [
    "Y = sio.loadmat('all_dis_label.mat')\n",
    "Y = Y['all_dis']\n",
    "Y_train = Y[0:432,:]\n",
    "Y_test = Y[433:540,:]"
   ]
  },
  {
   "cell_type": "code",
   "execution_count": 64,
   "metadata": {},
   "outputs": [
    {
     "data": {
      "text/plain": [
       "(432, 4)"
      ]
     },
     "execution_count": 64,
     "metadata": {},
     "output_type": "execute_result"
    }
   ],
   "source": [
    "Y_train.shape"
   ]
  },
  {
   "cell_type": "markdown",
   "metadata": {},
   "source": [
    "Declaring the model architecture"
   ]
  },
  {
   "cell_type": "code",
   "execution_count": 65,
   "metadata": {},
   "outputs": [],
   "source": [
    "model = Sequential()\n",
    "model.add(Dense(256, activation='relu', input_dim=X_train.shape[1]))\n",
    "#model.add(Dropout(0.1))\n",
    "model.add(Dense(128, activation='relu'))\n",
    "#model.add(Dropout(0.1))\n",
    "model.add(Dense(16, activation='relu'))\n",
    "#model.add(Dropout(0.1))\n",
    "model.add(Dense(Y_train.shape[1], activation='sigmoid'))\n"
   ]
  },
  {
   "cell_type": "code",
   "execution_count": 66,
   "metadata": {},
   "outputs": [],
   "source": [
    "from sklearn.model_selection import train_test_split\n",
    "\n",
    "x_train, x_val, y_train, y_val = train_test_split(X_train, Y_train, random_state=42, test_size=0.1)"
   ]
  },
  {
   "cell_type": "markdown",
   "metadata": {},
   "source": [
    "Splitting the training data into training and validation"
   ]
  },
  {
   "cell_type": "code",
   "execution_count": 67,
   "metadata": {},
   "outputs": [],
   "source": [
    "from keras.optimizers import SGD\n",
    "\n",
    "sgd = SGD(lr=0.01, decay=1e-6, momentum=0.9, nesterov=True)\n",
    "model.compile(loss='binary_crossentropy',\n",
    "              optimizer=sgd, metrics=['accuracy'])\n",
    "\n",
    "#model.fit(X_train, Y_train, epochs=5, batch_size=2000)\n",
    "\n",
    "#preds = model.predict(X_test)\n",
    "#preds[preds>=0.5] = 1\n",
    "#preds[preds<0.5] = 0"
   ]
  },
  {
   "cell_type": "markdown",
   "metadata": {},
   "source": [
    "Training the network to fit the data (Epoch show the training and validation accuracy)"
   ]
  },
  {
   "cell_type": "code",
   "execution_count": 68,
   "metadata": {},
   "outputs": [
    {
     "name": "stdout",
     "output_type": "stream",
     "text": [
      "Train on 388 samples, validate on 44 samples\n",
      "Epoch 1/10\n",
      "388/388 [==============================] - 6s 15ms/step - loss: 5.2939 - acc: 0.6701 - val_loss: 5.4718 - val_acc: 0.6591\n",
      "Epoch 2/10\n",
      "388/388 [==============================] - 4s 10ms/step - loss: 5.0668 - acc: 0.6843 - val_loss: 5.4718 - val_acc: 0.6591\n",
      "Epoch 3/10\n",
      "388/388 [==============================] - 4s 11ms/step - loss: 5.0668 - acc: 0.6843 - val_loss: 5.4718 - val_acc: 0.6591\n",
      "Epoch 4/10\n",
      "388/388 [==============================] - 4s 11ms/step - loss: 5.0668 - acc: 0.6843 - val_loss: 5.4718 - val_acc: 0.6591\n",
      "Epoch 5/10\n",
      "388/388 [==============================] - 4s 11ms/step - loss: 5.0668 - acc: 0.6843 - val_loss: 5.4718 - val_acc: 0.6591\n",
      "Epoch 6/10\n",
      "388/388 [==============================] - 4s 11ms/step - loss: 5.0668 - acc: 0.6843 - val_loss: 5.4718 - val_acc: 0.6591\n",
      "Epoch 7/10\n",
      "388/388 [==============================] - 4s 11ms/step - loss: 5.0668 - acc: 0.6843 - val_loss: 5.4718 - val_acc: 0.6591\n",
      "Epoch 8/10\n",
      "388/388 [==============================] - 4s 10ms/step - loss: 5.0668 - acc: 0.6843 - val_loss: 5.4718 - val_acc: 0.6591\n",
      "Epoch 9/10\n",
      "388/388 [==============================] - 4s 10ms/step - loss: 5.0668 - acc: 0.6843 - val_loss: 5.4718 - val_acc: 0.6591\n",
      "Epoch 10/10\n",
      "388/388 [==============================] - 4s 10ms/step - loss: 5.0668 - acc: 0.6843 - val_loss: 5.4718 - val_acc: 0.6591\n"
     ]
    }
   ],
   "source": [
    "history = model.fit(x_train, y_train, epochs=10, validation_data=(x_val, y_val), batch_size=32)"
   ]
  },
  {
   "cell_type": "markdown",
   "metadata": {},
   "source": [
    "Evaluate the network with the test data"
   ]
  },
  {
   "cell_type": "code",
   "execution_count": 71,
   "metadata": {},
   "outputs": [
    {
     "name": "stdout",
     "output_type": "stream",
     "text": [
      "107/107 [==============================] - 0s 3ms/step\n"
     ]
    },
    {
     "data": {
      "text/plain": [
       "[5.585752420336287, 0.6518691577643991]"
      ]
     },
     "execution_count": 71,
     "metadata": {},
     "output_type": "execute_result"
    }
   ],
   "source": [
    "model.evaluate(X_test, Y_test)"
   ]
  },
  {
   "cell_type": "code",
   "execution_count": 72,
   "metadata": {},
   "outputs": [
    {
     "data": {
      "text/plain": [
       "<bound method Sequential.summary of <keras.engine.sequential.Sequential object at 0x7fa52f754f90>>"
      ]
     },
     "execution_count": 72,
     "metadata": {},
     "output_type": "execute_result"
    }
   ],
   "source": [
    "model.summary"
   ]
  },
  {
   "cell_type": "code",
   "execution_count": null,
   "metadata": {},
   "outputs": [],
   "source": []
  }
 ],
 "metadata": {
  "kernelspec": {
   "display_name": "Python 2",
   "language": "python",
   "name": "python2"
  },
  "language_info": {
   "codemirror_mode": {
    "name": "ipython",
    "version": 2
   },
   "file_extension": ".py",
   "mimetype": "text/x-python",
   "name": "python",
   "nbconvert_exporter": "python",
   "pygments_lexer": "ipython2",
   "version": "2.7.13"
  }
 },
 "nbformat": 4,
 "nbformat_minor": 2
}
